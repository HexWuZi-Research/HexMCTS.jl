{
 "cells": [
  {
   "cell_type": "code",
   "execution_count": 1,
   "metadata": {},
   "outputs": [
    {
     "data": {
      "text/plain": [
       "search! (generic function with 1 method)"
      ]
     },
     "execution_count": 1,
     "metadata": {},
     "output_type": "execute_result"
    }
   ],
   "source": [
    "include(\"MCTS.jl\")"
   ]
  },
  {
   "cell_type": "code",
   "execution_count": 2,
   "metadata": {},
   "outputs": [
    {
     "data": {
      "text/plain": [
       "11×11 Matrix{Int64}:\n",
       "  0   0   0   0   0   0  10  10  10  10  10\n",
       "  0  -1   0   0   0   0   0  10  10  10  10\n",
       "  0   0  -1   0   0   0   0   0  10  10  10\n",
       "  0   0   0  -1   0   0   0   0   0  10  10\n",
       "  0   0   0   0  -1   0   0   0   0   0  10\n",
       "  0   0   0   0   0  -1   0   0   0   0   0\n",
       " 10   0   0   0   0   0  -1   0   0   0   0\n",
       " 10  10   0   0   0   0   0   0   0   0   0\n",
       " 10  10  10   0   0   0   0   0   0   0   0\n",
       " 10  10  10  10   0   0   0   0   0   0   0\n",
       " 10  10  10  10  10   0   0   0   0   0   0"
      ]
     },
     "metadata": {},
     "output_type": "display_data"
    },
    {
     "data": {
      "text/plain": [
       "(0, false)"
      ]
     },
     "metadata": {},
     "output_type": "display_data"
    }
   ],
   "source": [
    "board = copy(empty_board)\n",
    "for i in 2:7\n",
    "    board[i,i] = -1\n",
    "end\n",
    "\n",
    "display(board)\n",
    "\n",
    "display(check(board))\n"
   ]
  },
  {
   "cell_type": "code",
   "execution_count": 3,
   "metadata": {},
   "outputs": [
    {
     "name": "stdout",
     "output_type": "stream",
     "text": [
      "  0.253738 seconds (3.30 M allocations: 398.254 MiB, 15.08% gc time)\n"
     ]
    }
   ],
   "source": [
    "@time for i in 1:100000\n",
    "    check(board)\n",
    "end"
   ]
  },
  {
   "cell_type": "code",
   "execution_count": 8,
   "metadata": {},
   "outputs": [
    {
     "name": "stdout",
     "output_type": "stream",
     "text": [
      "  0.042636 seconds (300.00 k allocations: 41.199 MiB, 24.86% gc time)\n"
     ]
    }
   ],
   "source": [
    "@time for i in 1:100000\n",
    "    check(board,(6,6))\n",
    "end"
   ]
  },
  {
   "cell_type": "code",
   "execution_count": 5,
   "metadata": {},
   "outputs": [
    {
     "data": {
      "text/plain": [
       "HexState([0 0 … 10 10; 0 0 … 10 10; … ; 10 10 … 0 0; 10 10 … 0 0], -1)"
      ]
     },
     "execution_count": 5,
     "metadata": {},
     "output_type": "execute_result"
    }
   ],
   "source": [
    "state = HexState(empty_board,1)\n",
    "state = take_action(state,(6,6))"
   ]
  },
  {
   "cell_type": "code",
   "execution_count": 6,
   "metadata": {},
   "outputs": [
    {
     "data": {
      "text/plain": [
       "MCTS(5, 0.7071067811865475, random_rollout, nothing, nothing)"
      ]
     },
     "execution_count": 6,
     "metadata": {},
     "output_type": "execute_result"
    }
   ],
   "source": [
    "mcts = MCTS()"
   ]
  },
  {
   "cell_type": "code",
   "execution_count": 9,
   "metadata": {},
   "outputs": [
    {
     "data": {
      "text/plain": [
       "((7, 7), Dict{String, Any}(\"use_existed_node\" => false, \"root\" => TreeNode[state=HexState([0 0 0 0 0 0 10 10 10 10 10; 0 0 0 0 0 0 0 10 10 10 10; 0 0 0 0 0 0 0 0 10 10 10; 0 0 0 0 0 0 0 0 0 10 10; 0 0 0 0 0 0 0 0 0 0 10; 0 0 0 0 0 1 0 0 0 0 0; 10 0 0 0 0 0 0 0 0 0 0; 10 10 0 0 0 0 0 0 0 0 0; 10 10 10 0 0 0 0 0 0 0 0; 10 10 10 10 0 0 0 0 0 0 0; 10 10 10 10 10 0 0 0 0 0 0], -1),terminal=false,nvisit=33894,reward=4263.724715552054], \"excuted_times\" => 33894, \"expected_reward\" => 0.09456532548875637))"
      ]
     },
     "execution_count": 9,
     "metadata": {},
     "output_type": "execute_result"
    }
   ],
   "source": [
    "search!(mcts,state;need_details=true)"
   ]
  },
  {
   "cell_type": "code",
   "execution_count": null,
   "metadata": {},
   "outputs": [],
   "source": []
  }
 ],
 "metadata": {
  "kernelspec": {
   "display_name": "Julia 1.8.2",
   "language": "julia",
   "name": "julia-1.8"
  },
  "language_info": {
   "file_extension": ".jl",
   "mimetype": "application/julia",
   "name": "julia",
   "version": "1.8.2"
  },
  "orig_nbformat": 4
 },
 "nbformat": 4,
 "nbformat_minor": 2
}
